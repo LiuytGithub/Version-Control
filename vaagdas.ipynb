{
 "cells": [
  {
   "cell_type": "code",
   "execution_count": 4,
   "metadata": {},
   "outputs": [
    {
     "name": "stdout",
     "output_type": "stream",
     "text": [
      "Today's date: 2023-02-21\n",
      "<class 'datetime.date'>\n"
     ]
    },
    {
     "ename": "AttributeError",
     "evalue": "'datetime.date' object has no attribute 'split'",
     "output_type": "error",
     "traceback": [
      "\u001b[0;31m---------------------------------------------------------------------------\u001b[0m",
      "\u001b[0;31mAttributeError\u001b[0m                            Traceback (most recent call last)",
      "\u001b[0;32m<ipython-input-4-55b97512c797>\u001b[0m in \u001b[0;36m<module>\u001b[0;34m\u001b[0m\n\u001b[1;32m      5\u001b[0m \u001b[0;34m\u001b[0m\u001b[0m\n\u001b[1;32m      6\u001b[0m \u001b[0mprint\u001b[0m\u001b[0;34m(\u001b[0m\u001b[0mtype\u001b[0m\u001b[0;34m(\u001b[0m\u001b[0mtoday\u001b[0m\u001b[0;34m)\u001b[0m\u001b[0;34m)\u001b[0m\u001b[0;34m\u001b[0m\u001b[0;34m\u001b[0m\u001b[0m\n\u001b[0;32m----> 7\u001b[0;31m \u001b[0mtest\u001b[0m \u001b[0;34m=\u001b[0m \u001b[0mtoday\u001b[0m\u001b[0;34m.\u001b[0m\u001b[0msplit\u001b[0m\u001b[0;34m(\u001b[0m\u001b[0;34m\"-\"\u001b[0m\u001b[0;34m)\u001b[0m\u001b[0;34m\u001b[0m\u001b[0;34m\u001b[0m\u001b[0m\n\u001b[0m\u001b[1;32m      8\u001b[0m \u001b[0mprint\u001b[0m\u001b[0;34m(\u001b[0m\u001b[0mtest\u001b[0m\u001b[0;34m)\u001b[0m\u001b[0;34m\u001b[0m\u001b[0;34m\u001b[0m\u001b[0m\n",
      "\u001b[0;31mAttributeError\u001b[0m: 'datetime.date' object has no attribute 'split'"
     ]
    }
   ],
   "source": [
    "from datetime import date\n",
    "\n",
    "today = date.today()\n",
    "print(\"Today's date:\", today)\n",
    "\n",
    "print(type(today))\n",
    "test = today.split(\"-\")\n",
    "print(test)"
   ]
  },
  {
   "cell_type": "code",
   "execution_count": 17,
   "metadata": {},
   "outputs": [
    {
     "name": "stdin",
     "output_type": "stream",
     "text": [
      "Enter your name:  j\n",
      "Enter your birthday (mm/dd/year):  04/23/1999\n"
     ]
    },
    {
     "name": "stdout",
     "output_type": "stream",
     "text": [
      "You are 23 years old!\n",
      "0\n",
      "31\n",
      "54\n"
     ]
    }
   ],
   "source": [
    "from datetime import date\n",
    "\n",
    "# get current date\n",
    "today = date.today()\n",
    "today = today.strftime(\"%m/%d/%Y\")\n",
    "\n",
    "#split date into day, month, year\n",
    "today = today.split(\"/\")\n",
    "currMonth = today[0]\n",
    "currDay = today[1]\n",
    "currYear = today[2]\n",
    "\n",
    "# strip leading 0's\n",
    "currMonth = currMonth.strip(\"0\")\n",
    "currDay = currDay.strip(\"0\")\n",
    "\n",
    "# cast to integers\n",
    "currMonth = int(currMonth)\n",
    "currDay = int(currDay)\n",
    "currYear = int(currYear)\n",
    "\n",
    "# get name and birthday input\n",
    "name = input(\"Enter your name: \")\n",
    "\n",
    "while(True):\n",
    "    birthday = input(\"Enter your birthday (mm/dd/year): \")\n",
    "\n",
    "    # split birthday into day, month, year\n",
    "    birthday = birthday.split(\"/\")\n",
    "    birthMonth = birthday[0]\n",
    "    birthDay = birthday[1]\n",
    "    birthYear = birthday[2]\n",
    "    \n",
    "    #strip leading 0's\n",
    "    birthMonth = birthMonth.strip(\"0\")\n",
    "    birthDay = birthDay.strip(\"0\")\n",
    "    \n",
    "    # cast to integers\n",
    "    birthDay = int(birthDay)\n",
    "    birthMonth = int(birthMonth)\n",
    "    birthYear = int(birthYear)\n",
    "    \n",
    "    # check for valid month input\n",
    "    if (0 < birthMonth <= 12):\n",
    "        \n",
    "        # check for valid day input (30 day months)\n",
    "        if (birthMonth != 2 and birthMonth != 4 and birthMonth != 6 and birthMonth != 9 and birthMonth != 11):\n",
    "            if (0 < birthDay <= 30):\n",
    "                break\n",
    "        # check for valid february day input\n",
    "        elif (birthMonth == 2):\n",
    "            if (0 < birthDay <= 29):\n",
    "                break          \n",
    "        # check for valid day input (31 day months)\n",
    "        else:\n",
    "            if (0 < birthDay <= 31):\n",
    "                break\n",
    "\n",
    "# calculating age based on year, month, and day:\n",
    "age = int(currYear) - int(birthYear)\n",
    "if (int(currMonth) < int(birthMonth)):\n",
    "    age = age - 1\n",
    "    \n",
    "if (currMonth == birthMonth):\n",
    "    if (currDay < birthDay):\n",
    "        age = age - 1\n",
    "        \n",
    "print(f\"You are {age} years old!\")\n",
    "        \n",
    "# get number of days until birthday\n",
    "diffMonth = birthMonth - currMonth\n",
    "diffDay = birthDay - currDay\n",
    "days_until = 0\n",
    "monthDays = [31, 28, 31, 30, 31, 30, 31, 31, 30, 31, 30, 31]\n",
    "    \n",
    "print(days_until)\n",
    "\n",
    "#check if same month\n",
    "if(currMonth == birthMonth):\n",
    "    days_until = diffMonth + diffDay\n",
    "    print(days_until)\n",
    "    \n",
    "#if birthMonth > currMonth\n",
    "if(birthMonth > currMonth):\n",
    "    for days in range((currMonth), (birthMonth-1)):\n",
    "        days_until += monthDays[days]\n",
    "        print(days_until)\n",
    "    days_until += birthDay\n",
    "    print(days_until)\n",
    "    \n",
    "# if birthMonth < currMonth\n",
    "if(birthMonth < currMonth):\n",
    "    for days in range((birthMonth), (currMonth-1)):\n",
    "        days_until += monthDays[days]\n",
    "        print(days_until)\n",
    "    days_until += currDay\n",
    "    print(days_until)\n",
    "    \n",
    "\n",
    "# if today is their birthday, wish them a happy birthday\n",
    "if (currDay == birthDay and currMonth == birthMonth):\n",
    "    print(f\"Hey!! It's your birthday!! Happy birthday, {name} :))\")"
   ]
  },
  {
   "cell_type": "code",
   "execution_count": null,
   "metadata": {},
   "outputs": [],
   "source": []
  }
 ],
 "metadata": {
  "kernelspec": {
   "display_name": "Python 3",
   "language": "python",
   "name": "python3"
  },
  "language_info": {
   "codemirror_mode": {
    "name": "ipython",
    "version": 3
   },
   "file_extension": ".py",
   "mimetype": "text/x-python",
   "name": "python",
   "nbconvert_exporter": "python",
   "pygments_lexer": "ipython3",
   "version": "3.8.3"
  }
 },
 "nbformat": 4,
 "nbformat_minor": 4
}
